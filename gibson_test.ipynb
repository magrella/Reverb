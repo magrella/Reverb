{
 "cells": [
  {
   "attachments": {},
   "cell_type": "markdown",
   "metadata": {},
   "source": [
    "# Code based on \"Web Scraping with Python\" by DataCamp.com"
   ]
  },
  {
   "cell_type": "code",
   "execution_count": 1,
   "metadata": {},
   "outputs": [
    {
     "name": "stdout",
     "output_type": "stream",
     "text": [
      "You have found:  1596\n"
     ]
    }
   ],
   "source": [
    "# Import a scrapy Selector\n",
    "from scrapy import Selector\n",
    "\n",
    "# Import requests\n",
    "import requests\n",
    "\n",
    "\n",
    "# Set the URL\n",
    "# Used Solid Body Gibson Sold Listings from US\n",
    "url = 'https://reverb.com/brand/gibson?product_type=electric-guitars&category=solid-body&show_only_sold=true&condition=used&country_of_origin=US'\n",
    "\n",
    "# Create the string html containing the HTML source\n",
    "html = requests.get( url ).content\n",
    "\n",
    "# Create the Selector object sel from html\n",
    "sel = Selector(text = html)\n",
    "\n",
    "# Print out the number of elements in the HTML document\n",
    "print( \"You have found: \", len( sel.xpath('//*') ) )"
   ]
  },
  {
   "cell_type": "code",
   "execution_count": 110,
   "metadata": {},
   "outputs": [
    {
     "name": "stdout",
     "output_type": "stream",
     "text": [
      "tags found:  24\n"
     ]
    }
   ],
   "source": [
    "# using css selector instead of xpath\n",
    "\n",
    "css_locator = \"ul.tiles > li > div.grid-card\"\n",
    "#css_locator = \"li.tiles__tile  div.grid-card__price\"\n",
    "\n",
    "# store the selected element\n",
    "found_elements = sel.css(css_locator)\n",
    "\n",
    "\n",
    "# Print out the number of elements found\n",
    "print( \"tags found: \", len( found_elements) )\n",
    "\n",
    "\n",
    "\n",
    "\n"
   ]
  },
  {
   "cell_type": "code",
   "execution_count": 112,
   "metadata": {},
   "outputs": [
    {
     "name": "stdout",
     "output_type": "stream",
     "text": [
      "Text:  <div class=\"grid-card grid-card--placeholder\"><div class=\"grid-card__inner\"><div class=\"grid-card__main\"><div class=\"grid-card__image\"></div><div class=\"grid-card__main__text\"><div class=\"grid-card__title\"></div></div></div><div class=\"grid-card__footer\"><div class=\"grid-card__footer__pricing\"><div class=\"grid-card__price\"></div></div></div></div></div> \n",
      "Attributes:  {'class': 'grid-card grid-card--placeholder'}\n"
     ]
    }
   ],
   "source": [
    "# extract the text from the first selected element\n",
    "first_found_element_text = found_elements[0].extract()\n",
    "\n",
    "# list all the attributes of the (first) selected element\n",
    "first_found_element_attrs = found_elements[0].attrib\n",
    "\n",
    "# print out the text and the attributes\n",
    "print( \"Text: \", first_found_element_text, \"\\nAttributes: \", first_found_element_attrs )"
   ]
  },
  {
   "cell_type": "code",
   "execution_count": 126,
   "metadata": {},
   "outputs": [
    {
     "name": "stdout",
     "output_type": "stream",
     "text": [
      "tags found:  216\n"
     ]
    }
   ],
   "source": [
    "# using css selector instead of xpath\n",
    "\n",
    "css_locator = \"li.tiles__tile div\"\n",
    "\n",
    "# store the selected element\n",
    "found_elements = sel.css(css_locator)\n",
    "\n",
    "\n",
    "# Print out the number of elements found\n",
    "print( \"tags found: \", len( found_elements) )\n",
    "\n",
    "\n",
    "\n",
    "\n"
   ]
  },
  {
   "cell_type": "code",
   "execution_count": null,
   "metadata": {},
   "outputs": [],
   "source": []
  },
  {
   "cell_type": "code",
   "execution_count": null,
   "metadata": {},
   "outputs": [],
   "source": []
  }
 ],
 "metadata": {
  "kernelspec": {
   "display_name": "cop",
   "language": "python",
   "name": "python3"
  },
  "language_info": {
   "codemirror_mode": {
    "name": "ipython",
    "version": 3
   },
   "file_extension": ".py",
   "mimetype": "text/x-python",
   "name": "python",
   "nbconvert_exporter": "python",
   "pygments_lexer": "ipython3",
   "version": "3.9.15"
  },
  "orig_nbformat": 4
 },
 "nbformat": 4,
 "nbformat_minor": 2
}
