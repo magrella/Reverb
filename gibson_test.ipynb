{
 "cells": [
  {
   "attachments": {},
   "cell_type": "markdown",
   "metadata": {},
   "source": [
    "# Code based on \"Web Scraping with Python\" by DataCamp.com"
   ]
  },
  {
   "cell_type": "code",
   "execution_count": 1,
   "metadata": {},
   "outputs": [
    {
     "name": "stdout",
     "output_type": "stream",
     "text": [
      "You have found:  1585\n"
     ]
    }
   ],
   "source": [
    "# Import a scrapy Selector\n",
    "from scrapy import Selector\n",
    "\n",
    "# Import requests\n",
    "import requests\n",
    "\n",
    "\n",
    "# Set the URL\n",
    "# Used Solid Body Gibson Sold Listings from US\n",
    "url = 'https://reverb.com/brand/gibson?product_type=electric-guitars&category=solid-body&show_only_sold=true&condition=used&country_of_origin=US '\n",
    "\n",
    "# Create the string html containing the HTML source\n",
    "html = requests.get( url ).content\n",
    "\n",
    "# Create the Selector object sel from html\n",
    "sel = Selector(text = html)\n",
    "\n",
    "# Print out the number of elements in the HTML document\n",
    "print( \"You have found: \", len( sel.xpath('//*') ) )"
   ]
  },
  {
   "cell_type": "code",
   "execution_count": 7,
   "metadata": {},
   "outputs": [
    {
     "name": "stdout",
     "output_type": "stream",
     "text": [
      "ul tags found:  0\n",
      "div tags found:  24\n",
      "li tags found: 30\n"
     ]
    }
   ],
   "source": [
    "# using css selector instead of xpath\n",
    "\n",
    "css_locator = \"ul.tiles tiles--four-wide-max\"\n",
    "\n",
    "# Print out the number of elements found\n",
    "print( \"ul tags found: \", len( sel.css( css_locator )) )\n",
    "\n",
    "css_locator = 'div.grid-card'\n",
    "\n",
    "# Print out the number of elements found\n",
    "print( \"div tags found: \", len( sel.css( css_locator )) )\n",
    "\n",
    "css_locator = 'li.tiles__tile'\n",
    "\n",
    "\n",
    "# Print out the number of elements found\n",
    "print( \"li tags found:\", len( sel.css( css_locator )) )\n",
    "\n",
    "\n",
    "\n",
    "\n"
   ]
  },
  {
   "cell_type": "code",
   "execution_count": null,
   "metadata": {},
   "outputs": [],
   "source": []
  }
 ],
 "metadata": {
  "kernelspec": {
   "display_name": "cop",
   "language": "python",
   "name": "python3"
  },
  "language_info": {
   "codemirror_mode": {
    "name": "ipython",
    "version": 3
   },
   "file_extension": ".py",
   "mimetype": "text/x-python",
   "name": "python",
   "nbconvert_exporter": "python",
   "pygments_lexer": "ipython3",
   "version": "3.9.15"
  },
  "orig_nbformat": 4
 },
 "nbformat": 4,
 "nbformat_minor": 2
}
